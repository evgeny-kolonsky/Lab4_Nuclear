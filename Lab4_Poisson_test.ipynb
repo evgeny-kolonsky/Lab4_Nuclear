{
  "nbformat": 4,
  "nbformat_minor": 0,
  "metadata": {
    "colab": {
      "provenance": [],
      "authorship_tag": "ABX9TyN2UkAo6uTGd4qfCKuH+4mT",
      "include_colab_link": true
    },
    "kernelspec": {
      "name": "python3",
      "display_name": "Python 3"
    },
    "language_info": {
      "name": "python"
    }
  },
  "cells": [
    {
      "cell_type": "markdown",
      "metadata": {
        "id": "view-in-github",
        "colab_type": "text"
      },
      "source": [
        "<a href=\"https://colab.research.google.com/github/evgeny-kolonsky/Lab4_Nuclear/blob/main/Lab4_Poisson_test.ipynb\" target=\"_parent\"><img src=\"https://colab.research.google.com/assets/colab-badge.svg\" alt=\"Open In Colab\"/></a>"
      ]
    },
    {
      "cell_type": "code",
      "source": [
        "import math\n",
        "import numpy as np\n",
        "import matplotlib.pyplot as plt\n",
        "from scipy.stats import chisquare\n",
        "from scipy.stats import poisson\n",
        "from scipy.stats import chi2"
      ],
      "metadata": {
        "id": "YcziPY61sd9M"
      },
      "execution_count": 7,
      "outputs": []
    },
    {
      "cell_type": "code",
      "source": [
        "URL = 'https://raw.githubusercontent.com/tphlabs/data/main/Lab4_Nuclear/2023_12_13/Co60_shelf10_101measurements.tsv'\n",
        "data = np.genfromtxt(URL, delimiter='\\t', skip_header=11, usecols=2)\n",
        "#QTY = 40\n",
        "#s = np.random.choice(data, QTY)\n",
        "s = data\n",
        "m = len(s)\n",
        "n = s.mean()\n",
        "freqs = s / m\n",
        "print(s.mean(), s.std())"
      ],
      "metadata": {
        "colab": {
          "base_uri": "https://localhost:8080/"
        },
        "id": "wEp6g-oGY_Rd",
        "outputId": "28bf4376-eb27-4a5a-a00b-13d41f12a81c"
      },
      "execution_count": 8,
      "outputs": [
        {
          "output_type": "stream",
          "name": "stdout",
          "text": [
            "11.128712871287128 3.2841152834187812\n"
          ]
        }
      ]
    },
    {
      "cell_type": "code",
      "source": [
        "BINS = 25\n",
        "DOF = BINS - 2\n",
        "def expected(x, m):\n",
        "  return poisson(n).pmf(x) * m\n",
        "def observed(i):\n",
        "  ans = 0\n",
        "  for counts in s:\n",
        "    if i == counts:\n",
        "      ans += 1\n",
        "  return ans\n",
        "\n",
        "Ok = np.array([observed(i) for i in range(BINS)])\n",
        "Ek = np.array([expected(i, m) for i in range(BINS)])\n",
        "\n",
        "chisquare0 = np.sum((Ok - Ek)**2 / Ek) / DOF\n",
        "#for i in range(BINS):\n",
        "#  print(f'{i}, {Ok[i]}, {Ek[i]:.1f}, {(Ok[i] - Ek[i])**2 / Ek[i]:.1f}')\n",
        "\n",
        "#chi2.pdf(chisquare0 * DOF, DOF)\n",
        "chisquare0"
      ],
      "metadata": {
        "colab": {
          "base_uri": "https://localhost:8080/"
        },
        "id": "6CLsKwRm4WNh",
        "outputId": "b6d89e35-1abe-4bbd-c9fa-730cfce01d70"
      },
      "execution_count": 9,
      "outputs": [
        {
          "output_type": "execute_result",
          "data": {
            "text/plain": [
              "0.8384218290529237"
            ]
          },
          "metadata": {},
          "execution_count": 9
        }
      ]
    },
    {
      "cell_type": "code",
      "execution_count": 10,
      "metadata": {
        "colab": {
          "base_uri": "https://localhost:8080/",
          "height": 430
        },
        "id": "FMsUzTRRqZaT",
        "outputId": "69e92aac-ad65-465c-8c94-e051e5fb10d6"
      },
      "outputs": [
        {
          "output_type": "display_data",
          "data": {
            "text/plain": [
              "<Figure size 640x480 with 1 Axes>"
            ],
            "image/png": "[encoded data removed]"
          },
          "metadata": {}
        }
      ],
      "source": [
        "count, bins, ignored = plt.hist(s, 19,  density=True, label='Poisson')\n",
        "plt.xticks(range(0, int(s.max())+1))\n",
        "plt.legend()\n",
        "plt.scatter(s, poisson.pmf(s, n), color='green')\n",
        "plt.show()"
      ]
    },
    {
      "cell_type": "code",
      "source": [
        "k3 = (s - s.mean())**3\n",
        "K3 = k3.sum()/(m-1)\n",
        "s.mean(), s.std(), K3"
      ],
      "metadata": {
        "colab": {
          "base_uri": "https://localhost:8080/"
        },
        "id": "dqlwz1ZnqjMV",
        "outputId": "805e6897-ebf8-46f3-8d44-cc552a951017"
      },
      "execution_count": 11,
      "outputs": [
        {
          "output_type": "execute_result",
          "data": {
            "text/plain": [
              "(11.128712871287128, 3.2841152834187812, 13.081535143613396)"
            ]
          },
          "metadata": {},
          "execution_count": 11
        }
      ]
    },
    {
      "cell_type": "code",
      "source": [
        "n, err = s.mean(), s.std()/np.sqrt(m)\n",
        "# relative error in intensity\n",
        "n, err"
      ],
      "metadata": {
        "id": "skYizMBvrlW0",
        "colab": {
          "base_uri": "https://localhost:8080/"
        },
        "outputId": "7ca926a3-8dec-4fb5-ef5b-c3b86efa4be9"
      },
      "execution_count": 12,
      "outputs": [
        {
          "output_type": "execute_result",
          "data": {
            "text/plain": [
              "(11.128712871287128, 0.3267816843938706)"
            ]
          },
          "metadata": {},
          "execution_count": 12
        }
      ]
    },
    {
      "cell_type": "code",
      "source": [
        "errK3 = np.sqrt(k3.var() / (m - 1))\n",
        "K3, errK3"
      ],
      "metadata": {
        "colab": {
          "base_uri": "https://localhost:8080/"
        },
        "id": "jaL3sty7bfaJ",
        "outputId": "62dad72e-7dcd-4e1d-bcc7-be96227ad544"
      },
      "execution_count": 13,
      "outputs": [
        {
          "output_type": "execute_result",
          "data": {
            "text/plain": [
              "(13.081535143613396, 16.84657074398164)"
            ]
          },
          "metadata": {},
          "execution_count": 13
        }
      ]
    },
    {
      "cell_type": "markdown",
      "source": [
        "$$\\chi^2$$"
      ],
      "metadata": {
        "id": "zd_PEfP2emZW"
      }
    }
  ]
}