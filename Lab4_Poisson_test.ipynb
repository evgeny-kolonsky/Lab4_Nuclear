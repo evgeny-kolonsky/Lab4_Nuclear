{
  "metadata": {
    "colab": {
      "provenance": [],
      "include_colab_link": true
    },
    "kernelspec": {
      "name": "python3",
      "display_name": "Python 3 (ipykernel)",
      "language": "python"
    },
    "language_info": {
      "name": "python",
      "version": "3.10.12",
      "mimetype": "text/x-python",
      "codemirror_mode": {
        "name": "ipython",
        "version": 3
      },
      "pygments_lexer": "ipython3",
      "nbconvert_exporter": "python",
      "file_extension": ".py"
    }
  },
  "nbformat_minor": 0,
  "nbformat": 4,
  "cells": [
    {
      "cell_type": "markdown",
      "metadata": {
        "id": "view-in-github",
        "colab_type": "text"
      },
      "source": [
        "<a href=\"https://colab.research.google.com/github/evgeny-kolonsky/Lab4_Nuclear/blob/main/Lab4_Poisson_test.ipynb\" target=\"_parent\"><img src=\"https://colab.research.google.com/assets/colab-badge.svg\" alt=\"Open In Colab\"/></a>"
      ]
    },
    {
      "cell_type": "code",
      "source": [
        "import numpy as np\n",
        "import matplotlib.pyplot as plt\n",
        "from scipy.stats import chisquare, poisson, linregress\n",
        "from sklearn.linear_model import LinearRegression"
      ],
      "metadata": {
        "tags": [],
        "id": "YcziPY61sd9M",
        "trusted": true
      },
      "execution_count": null,
      "outputs": []
    },
    {
      "cell_type": "markdown",
      "source": [
        "# Get geiger-mueller sensor data"
      ],
      "metadata": {
        "id": "cs6hpW9VlZEj"
      }
    },
    {
      "cell_type": "code",
      "source": [
        "URL = 'https://raw.githubusercontent.com/tphlabs/data/main/Lab4_Nuclear/2023_12_14/1_Background.tsv'\n",
        "#URL = 'https://raw.githubusercontent.com/tphlabs/data/main/Lab4_Nuclear/2023_12_13/Co60_shelf10_101measurements.tsv'\n",
        "s = np.genfromtxt(URL, delimiter='\\t', skip_header=11, usecols=2, dtype='int')\n",
        "\n",
        "plt.hist(s);"
      ],
      "metadata": {
        "tags": [],
        "id": "wEp6g-oGY_Rd",
        "trusted": true
      },
      "execution_count": null,
      "outputs": []
    },
    {
      "cell_type": "code",
      "source": [
        "I_background = s.mean() / 10\n",
        "print(f'Background intensity I {I_background:.2f} counts/s')"
      ],
      "metadata": {
        "id": "bY8WgIBMGrEC"
      },
      "execution_count": null,
      "outputs": []
    },
    {
      "cell_type": "markdown",
      "source": [
        "# is it like Poisson distribution?"
      ],
      "metadata": {
        "id": "8001zrolhfCa"
      }
    },
    {
      "cell_type": "markdown",
      "source": [
        "## Test by $\\chi_2$ criterion\n",
        "\n",
        "$$\n",
        "\\chi^2 =  \\sum_k \\frac{(O_k - E_k)^2}{E_k}\n",
        "$$\n",
        "\n",
        "$$ \\tilde \\chi^2 = \\chi^2 / d,$$\n",
        "where $d$ - number degrees of freedom.\n",
        "\n",
        "Refer to [Taylor, J.R. (1997) An Introduction to Error Analysis: The Study of Uncertainties in Physical Measurements.]"
      ],
      "metadata": {
        "id": "Qs0JpQuknIfT"
      }
    },
    {
      "cell_type": "code",
      "source": [
        "#s = poisson.rvs(2.0, size=100) # Synthetic data\n",
        "\n",
        "mean_intencity = np.mean(s)\n",
        "total_events = len(s)\n",
        "\n",
        "observed = np.bincount(s)\n",
        "bins = [bin for bin in range(len(observed))]\n",
        "poi = np.array([poisson(mean_intencity).pmf(bin)  for bin in bins])\n",
        "# add to last bin right tail probability P(x > x_max)\n",
        "poi[-1] += 1 - poisson(mean_intencity).cdf(bins[-1])\n",
        "expected = poi * total_events\n",
        "\n",
        "#plt.plot(bins, observed, '.')\n",
        "plt.hist(s, len(bins))\n",
        "plt.plot(bins, expected)\n",
        "\n",
        "# calculate chi2\n",
        "chi2, pvalue = chisquare(observed, expected, ddof=2) # ddof = 2: total and mean values have been taken out of data\n",
        "DOF = len(bins) - 2\n",
        "chi2_obtainted = chi2/DOF\n",
        "print(f'This is Poisson distribution with likelihood {pvalue*100:.0f}%')\n",
        "print(f'Chi2 obtained: {chi2_obtainted:.2f} (for likelihood should be less than 1)')"
      ],
      "metadata": {
        "id": "VxaVa0Yvhwn9"
      },
      "execution_count": null,
      "outputs": []
    },
    {
      "cell_type": "markdown",
      "source": [
        "## Test by 3rd moment criterion"
      ],
      "metadata": {
        "id": "upUSN6-Wsrfc"
      }
    },
    {
      "cell_type": "code",
      "source": [
        "k3 = (s - s.mean())**3\n",
        "K3 = k3.sum()/(total_events-1)\n",
        "s.mean(), s.std(), K3"
      ],
      "metadata": {
        "tags": [],
        "id": "dqlwz1ZnqjMV",
        "trusted": true
      },
      "execution_count": null,
      "outputs": []
    },
    {
      "cell_type": "code",
      "source": [
        "# relative error in intensity\n",
        "s.mean(), s.std()/np.sqrt(total_events)"
      ],
      "metadata": {
        "tags": [],
        "id": "skYizMBvrlW0",
        "trusted": true
      },
      "execution_count": null,
      "outputs": []
    },
    {
      "cell_type": "code",
      "source": [
        "errK3 = np.sqrt(k3.var() / (total_events - 1))\n",
        "K3, errK3"
      ],
      "metadata": {
        "tags": [],
        "id": "jaL3sty7bfaJ",
        "trusted": true
      },
      "execution_count": null,
      "outputs": []
    },
    {
      "cell_type": "markdown",
      "source": [
        "# Inverse square law\n",
        "\n",
        "$$\n",
        "I \\propto \\frac{1}{r^2}\\, \\implies \\, r \\propto \\frac{1}{\\sqrt I}\n",
        "$$"
      ],
      "metadata": {
        "id": "zd_PEfP2emZW"
      }
    },
    {
      "cell_type": "code",
      "source": [
        "measurements = '''\n",
        "1 429\n",
        "2 491\n",
        "3 646\n",
        "4 805\n",
        "5 1033\n",
        "6 1465\n",
        "7 2000\n",
        "8 3077\n",
        "9 5121\n",
        "10 8587\n",
        "'''\n",
        "data = np.genfromtxt(measurements.splitlines())\n",
        "x, I = data.T\n",
        "Ierr = np.sqrt(I)\n",
        "\n",
        "plt.errorbar(x, I, yerr=Ierr, linestyle='')\n",
        "plt.xlabel('x, [a.u.]')\n",
        "plt.ylabel('Intesity, counts/min')\n",
        "plt.grid()\n"
      ],
      "metadata": {
        "tags": [],
        "id": "D3eXuD3RH5da",
        "trusted": true
      },
      "execution_count": null,
      "outputs": []
    },
    {
      "cell_type": "markdown",
      "source": [
        "Offset $r = a -x$  "
      ],
      "metadata": {
        "id": "FRm0vADP3FD8"
      }
    },
    {
      "cell_type": "code",
      "source": [
        "I_inv = 1/np.sqrt(I)\n",
        "xspace = np.linspace(0, 13)\n",
        "\n",
        "plt.plot(x, I_inv, 'o', label='measurements')\n",
        "plt.xlabel('x, [a.u.]')\n",
        "plt.ylabel('Intesity^-1/2, counts/min')\n",
        "\n",
        "fit = linregress(x, I_inv)\n",
        "a = -fit.intercept / fit.slope\n",
        "plt.plot(xspace, fit.intercept + fit.slope * xspace, label=fr'Fit: crosses zero at $a$={a:.1f} a.u.')\n",
        "plt.axhline(0, color='gray')\n",
        "plt.grid()\n",
        "plt.legend()\n"
      ],
      "metadata": {
        "id": "YEKCldtfMyC8",
        "trusted": true
      },
      "execution_count": null,
      "outputs": []
    },
    {
      "cell_type": "markdown",
      "source": [
        "Proportionality test"
      ],
      "metadata": {
        "id": "16vh87PW3jo4"
      }
    },
    {
      "cell_type": "code",
      "source": [
        "r = a - x\n",
        "Ierr = np.sqrt(I)\n",
        "\n",
        "plt.errorbar(1/r**2, I, yerr=Ierr, color='red', linestyle='', label='measurements')\n",
        "plt.xlabel('1/r^2, [a.u.]')\n",
        "\n",
        "lr = LinearRegression(fit_intercept=False)\n",
        "\n",
        "lr.fit(1/r[:-1].reshape(-1, 1)**2, I[:-1])\n",
        "plt.plot(1/r**2, lr.coef_ /r**2, alpha=0.3, label='linear fit')\n",
        "\n",
        "plt.ylabel('Intesity, counts/min')\n",
        "plt.grid()\n"
      ],
      "metadata": {
        "id": "BBnRsZlPxMSx"
      },
      "execution_count": null,
      "outputs": []
    },
    {
      "cell_type": "markdown",
      "source": [
        "# Attenuation\n",
        "$$I = I_0 e^{-\\mu d}$$"
      ],
      "metadata": {
        "tags": [],
        "id": "0sQ5KByaH5da"
      }
    },
    {
      "cell_type": "code",
      "source": [
        "# colums 1 and 2 - width of aluminum plates between radiation source and GM intensity sensor (1e-6m)\n",
        "# column 2 - Intensity counts/min\n",
        "measurements = '''\n",
        "2480 3070  13\n",
        "2480 0     152\n",
        "400 240    3592\n",
        "400 320 3381\n",
        "0  0   7280\n",
        "3070 0 41\n",
        "2160 0 259\n",
        "1970 0 386\n",
        "1510 0 913\n",
        "1210 0 1716\n",
        "900 0 2666\n",
        "740 0 3041\n",
        "590 0 3796\n",
        "430 0 4362\n",
        "400 0 4635\n",
        "320 0 4918\n",
        "240 0 5268\n",
        "160 0 5675\n",
        "80 0 6345\n",
        "40 0 6593\n",
        "3070 900 16\n",
        "3070 1970 16\n",
        "1970 900 52\n",
        "1970 1510 29\n",
        "3070 1510 21\n",
        "'''\n",
        "data = np.genfromtxt(measurements.splitlines())\n",
        "d1, d2, I = data.T\n",
        "d = d1 + d2\n",
        "I /= 60 # counst/min -> counts/s\n",
        "I_rel = I / I_background # relative\n",
        "I_err = np.sqrt(I_rel)\n",
        "\n",
        "plt.errorbar(d*1e-3, np.log(I_rel), yerr=I_err/I_rel, linestyle='', label='Measurements')\n",
        "plt.xlabel('width Al, [mm]')\n",
        "plt.ylabel(r'Relative intesity $\\log I/I_{bck}$, [counts/s]')\n",
        "plt.axhline(0, color='green', label='Background')\n",
        "plt.grid()\n",
        "plt.legend()\n"
      ],
      "metadata": {
        "tags": [],
        "id": "xcbsJUEtH5db",
        "trusted": true
      },
      "execution_count": null,
      "outputs": []
    },
    {
      "cell_type": "code",
      "source": [
        "plt.errorbar(d*1e-3, I_rel, yerr=I_err, linestyle='', label='Measurements')\n",
        "plt.xlabel('width Al, [mm]')\n",
        "plt.ylabel(r'Relative intesity $I/I_{bck}$, [counts/s]')\n",
        "plt.axhline(I_background, color='green', label='Background')\n",
        "plt.grid()\n",
        "plt.yscale('log')\n",
        "plt.legend()\n"
      ],
      "metadata": {
        "id": "P8LEkic4H5db",
        "trusted": true
      },
      "execution_count": null,
      "outputs": []
    },
    {
      "cell_type": "markdown",
      "source": [
        "# Attenuation coefficents $\\mu$ of Aluminium\n",
        "\n",
        "https://physics.nist.gov/PhysRefData/XrayMassCoef/ElemTab/z13.html\n",
        "\n"
      ],
      "metadata": {
        "id": "85TyHkviLise"
      }
    },
    {
      "cell_type": "code",
      "source": [
        "coeff = '''\n",
        "   1.00000E-03  1.185E+03  1.183E+03\n",
        "   1.50000E-03  4.022E+02  4.001E+02\n",
        "   1.55960E-03  3.621E+02  3.600E+02\n",
        "   1.55960E-03  3.957E+03  3.829E+03\n",
        "   2.00000E-03  2.263E+03  2.204E+03\n",
        "   3.00000E-03  7.880E+02  7.732E+02\n",
        "   4.00000E-03  3.605E+02  3.545E+02\n",
        "   5.00000E-03  1.934E+02  1.902E+02\n",
        "   6.00000E-03  1.153E+02  1.133E+02\n",
        "   8.00000E-03  5.033E+01  4.918E+01\n",
        "   1.00000E-02  2.623E+01  2.543E+01\n",
        "   1.50000E-02  7.955E+00  7.487E+00\n",
        "   2.00000E-02  3.441E+00  3.094E+00\n",
        "   3.00000E-02  1.128E+00  8.778E-01\n",
        "   4.00000E-02  5.685E-01  3.601E-01\n",
        "   5.00000E-02  3.681E-01  1.840E-01\n",
        "   6.00000E-02  2.778E-01  1.099E-01\n",
        "   8.00000E-02  2.018E-01  5.511E-02\n",
        "   1.00000E-01  1.704E-01  3.794E-02\n",
        "   1.50000E-01  1.378E-01  2.827E-02\n",
        "   2.00000E-01  1.223E-01  2.745E-02\n",
        "   3.00000E-01  1.042E-01  2.816E-02\n",
        "   4.00000E-01  9.276E-02  2.862E-02\n",
        "   5.00000E-01  8.445E-02  2.868E-02\n",
        "   6.00000E-01  7.802E-02  2.851E-02\n",
        "   8.00000E-01  6.841E-02  2.778E-02\n",
        "   1.00000E+00  6.146E-02  2.686E-02\n",
        "   1.25000E+00  5.496E-02  2.565E-02\n",
        "   1.50000E+00  5.006E-02  2.451E-02\n",
        "   2.00000E+00  4.324E-02  2.266E-02\n",
        "   3.00000E+00  3.541E-02  2.024E-02\n",
        "   4.00000E+00  3.106E-02  1.882E-02\n",
        "   5.00000E+00  2.836E-02  1.795E-02\n",
        "   6.00000E+00  2.655E-02  1.739E-02\n",
        "   8.00000E+00  2.437E-02  1.678E-02\n",
        "   1.00000E+01  2.318E-02  1.650E-02\n",
        "   1.50000E+01  2.195E-02  1.631E-02\n",
        "   2.00000E+01  2.168E-02  1.633E-02\n",
        "'''\n",
        "data = np.genfromtxt(coeff.splitlines())\n",
        "# energy [MeV]\n",
        "# mu_gamma, mu_beta [cm^2/g]\n",
        "energy, mu_gamma, mu_beta = data.T"
      ],
      "metadata": {
        "trusted": true,
        "tags": [],
        "id": "_-Ph0htLtxc1"
      },
      "execution_count": null,
      "outputs": []
    },
    {
      "cell_type": "markdown",
      "source": [
        "## Stroncium-90 decay\n",
        "![image.png](https://radioactivity.eu.com/static/bd2ac4b2ed7ce11af31e688bfcadc8b0/d1f95/Diagramme_Strontium_En.jpg)"
      ],
      "metadata": {
        "tags": [],
        "id": "34jk6Xo7txc1"
      }
    },
    {
      "cell_type": "code",
      "source": [
        "E_st90 = 0.546 # MeV\n",
        "# find nearest mu to Str90 decay energy\n",
        "idx = np.abs(energy - E_st90).argmin()\n",
        "rho_Al = 2.7 # g/cm^3\n",
        "mu_gamma_str90 = mu_gamma[idx] * rho_Al\n",
        "mu_beta_str90 = mu_beta[idx]   * rho_Al\n"
      ],
      "metadata": {
        "trusted": true,
        "tags": [],
        "id": "ancz9rRStxc1"
      },
      "execution_count": null,
      "outputs": []
    },
    {
      "cell_type": "code",
      "source": [
        "gamma_offset = 1\n",
        "I_model_gamma = gamma_offset * np.max(I_rel) * np.exp(-mu_gamma_str90 * d*1e-2)\n",
        "I_model_beta = np.max(I_rel) * np.exp(-mu_beta_str90 * d*1e-2)\n",
        "plt.errorbar(d*1e-3, np.log(I_rel), yerr=I_err/I_rel, linestyle='', label='Measurements')\n",
        "plt.xlabel('width Al, [mm]')\n",
        "plt.ylabel(r'Relative intesity $\\log I/I_{bck}$, [counts/s]')\n",
        "plt.axhline(0, color='gray', label='Background')\n",
        "offset = 1.3\n",
        "plt.plot(d*1e-3,  offset + np.log(I_model_gamma), label='Gamma')\n",
        "plt.plot(d*1e-3, np.log(I_model_beta), label='Beta')\n",
        "plt.grid()\n",
        "plt.legend()"
      ],
      "metadata": {
        "trusted": true,
        "tags": [],
        "id": "fxA90Zqktxc1"
      },
      "execution_count": null,
      "outputs": []
    },
    {
      "cell_type": "code",
      "source": [],
      "metadata": {
        "id": "sNhUwRZCtxc1"
      },
      "execution_count": null,
      "outputs": []
    }
  ]
}